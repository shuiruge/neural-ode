{
 "cells": [
  {
   "cell_type": "code",
   "execution_count": 2,
   "metadata": {
    "colab": {},
    "colab_type": "code",
    "id": "UbpVa7ERQjL-"
   },
   "outputs": [],
   "source": [
    "# !pip install git+https://github.com/shuiruge/neural-ode.git@master\n",
    "\n",
    "import numpy as np\n",
    "import tensorflow as tf\n",
    "from node.hopfield import ContinuousTimeHopfieldLayer\n",
    "                           \n",
    "# for reproducibility\n",
    "SEED = 42\n",
    "np.random.seed(SEED)\n",
    "tf.random.set_seed(SEED)\n",
    "\n",
    "tf.keras.backend.clear_session()\n",
    "\n",
    "\n",
    "def pooling(x, size):\n",
    "  # x shape: [None, width, height]\n",
    "  x = tf.expand_dims(x, axis=-1)\n",
    "  x = tf.image.resize(x, size)\n",
    "  return x  # shape: [None, size[0], size[1], 1]\n",
    "\n",
    "\n",
    "def process_data(X, y, image_size):\n",
    "  X = pooling(X, image_size)\n",
    "  X = X / 255.\n",
    "  X = tf.where(X < 0.5, -1., 1.)\n",
    "  X = tf.reshape(X, [-1, image_size[0] * image_size[1]])\n",
    "  y = tf.one_hot(y, 10)\n",
    "  return tf.cast(X, tf.float32), tf.cast(y, tf.float32)\n",
    "\n",
    "\n",
    "def create_dataset(X, y, epochs=50, batch_size=512):\n",
    "  dataset = tf.data.Dataset.from_tensor_slices((X, y))\n",
    "  dataset = dataset.shuffle(1000).repeat(epochs).batch(batch_size)\n",
    "  return dataset\n",
    "\n",
    "\n",
    "def create_valid_dataset(X, y, n_samples=3000, batch_size=512):\n",
    "  dataset = tf.data.Dataset.from_tensor_slices((X[:n_samples], y[:n_samples]))\n",
    "  dataset = dataset.batch(batch_size)\n",
    "  return dataset\n",
    "\n",
    "\n",
    "def decompose_model(model):\n",
    "  for i0, layer in enumerate(model.layers):\n",
    "    if isinstance(layer, ContinuousTimeHopfieldLayer):\n",
    "      break\n",
    "  for i1, layer in enumerate(reversed(model.layers)):\n",
    "    if isinstance(layer, ContinuousTimeHopfieldLayer):\n",
    "      break\n",
    "  return (tf.keras.Sequential(model.layers[:i0]),\n",
    "        tf.keras.Sequential(model.layers[i0:-i1]),\n",
    "        tf.keras.Sequential(model.layers[-i1:]))\n",
    "\n",
    "\n",
    "# load and preprocess MNIST dataset\n",
    "\n",
    "IMAGE_SIZE = (28, 28)\n",
    "\n",
    "(x_train, y_train), (x_test, y_test) = tf.keras.datasets.mnist.load_data()\n",
    "x_train, y_train = process_data(x_train, y_train, IMAGE_SIZE)"
   ]
  },
  {
   "cell_type": "code",
   "execution_count": 3,
   "metadata": {
    "colab": {
     "base_uri": "https://localhost:8080/",
     "height": 71
    },
    "colab_type": "code",
    "id": "UZV1tgisBe2e",
    "outputId": "b17c2f02-60fc-43fb-dd3d-8e701ee9f6b0"
   },
   "outputs": [
    {
     "name": "stdout",
     "output_type": "stream",
     "text": [
      "5860/5860 [==============================] - 39s 7ms/step - loss: 0.0226 - acc: 0.9933\n",
      "6/6 [==============================] - 0s 3ms/step - loss: 5.4448e-05 - acc: 1.0000\n"
     ]
    },
    {
     "data": {
      "text/plain": [
       "[5.444816270028241e-05, 1.0]"
      ]
     },
     "execution_count": 3,
     "metadata": {
      "tags": []
     },
     "output_type": "execute_result"
    }
   ],
   "source": [
    "benchmark_model = tf.keras.Sequential([\n",
    "  tf.keras.Input([IMAGE_SIZE[0] * IMAGE_SIZE[1]]),\n",
    "  tf.keras.layers.LayerNormalization(),\n",
    "  tf.keras.layers.Dense(1024),\n",
    "  tf.keras.layers.LayerNormalization(),\n",
    "  tf.keras.layers.Activation(tf.nn.relu),\n",
    "  tf.keras.layers.Dense(1024),\n",
    "  tf.keras.layers.LayerNormalization(),\n",
    "  tf.keras.layers.Activation(tf.nn.relu),\n",
    "  tf.keras.layers.Dense(1024),\n",
    "  tf.keras.layers.LayerNormalization(),\n",
    "  tf.keras.layers.Activation(tf.tanh),\n",
    "  # tf.keras.layers.Dense(128, activation='relu'),\n",
    "  tf.keras.layers.Dense(10, activation='softmax'),\n",
    "])\n",
    "benchmark_model.compile(\n",
    "    loss='categorical_crossentropy', optimizer='adam', metrics=['acc'])\n",
    "benchmark_model.fit(create_dataset(x_train, y_train))\n",
    "benchmark_model.evaluate(create_valid_dataset(x_train, y_train))"
   ]
  },
  {
   "cell_type": "markdown",
   "metadata": {
    "colab_type": "text",
    "id": "WYLKT6m1HXGr"
   },
   "source": [
    "Exame the noise effect:"
   ]
  },
  {
   "cell_type": "code",
   "execution_count": 4,
   "metadata": {
    "colab": {
     "base_uri": "https://localhost:8080/",
     "height": 35
    },
    "colab_type": "code",
    "id": "UWy9NB-pRBYq",
    "outputId": "0ef43664-ea9e-4205-cedf-711181d99516"
   },
   "outputs": [
    {
     "name": "stdout",
     "output_type": "stream",
     "text": [
      "Noise effect (accuracy): 1.0 => 0.663\n"
     ]
    }
   ],
   "source": [
    "FLIP_RATIO = 0.2\n",
    "\n",
    "X = x_train[:1000]\n",
    "targets = np.argmax(y_train[:1000], axis=1)\n",
    "noised_X = np.where(np.random.random(size=X.shape) < FLIP_RATIO,\n",
    "                    -X, X)\n",
    "unoised_y = np.argmax(benchmark_model.predict(X), axis=1)\n",
    "noised_y = np.argmax(benchmark_model.predict(noised_X), axis=1)\n",
    "\n",
    "print('Noise effect (accuracy):',\n",
    "      np.sum(unoised_y == targets) / targets.shape[0],\n",
    "      '=>',\n",
    "      np.sum(noised_y == targets) / targets.shape[0])"
   ]
  },
  {
   "cell_type": "markdown",
   "metadata": {
    "colab_type": "text",
    "id": "r_v6Q89lYhAX"
   },
   "source": [
    "Extract the truncated model from the benchmark:"
   ]
  },
  {
   "cell_type": "code",
   "execution_count": 5,
   "metadata": {
    "colab": {
     "base_uri": "https://localhost:8080/",
     "height": 35
    },
    "colab_type": "code",
    "id": "A-Dh7tjUqTVI",
    "outputId": "88315b73-ec07-4a21-9ee5-9f2e01fd23c6"
   },
   "outputs": [
    {
     "name": "stdout",
     "output_type": "stream",
     "text": [
      "Latent flip ratio: 0.6865\n"
     ]
    }
   ],
   "source": [
    "THRESHOLD = 0.1\n",
    "\n",
    "# truncated model excluding the last classification layer\n",
    "\n",
    "truncated_benchmark_model = tf.keras.Sequential(benchmark_model.layers[:-1])\n",
    "unoised_z = truncated_benchmark_model.predict(X)\n",
    "noised_z = truncated_benchmark_model.predict(noised_X)\n",
    "\n",
    "z_flip_ratio = tf.reduce_mean(\n",
    "    tf.where(tf.abs(unoised_z - noised_z) > THRESHOLD, 1., 0.))\n",
    "print('Latent flip ratio:', z_flip_ratio.numpy())"
   ]
  },
  {
   "cell_type": "markdown",
   "metadata": {
    "colab_type": "text",
    "id": "ulHuRK6dDLZP"
   },
   "source": [
    "Follow the same process, but for Hopfield layer instead:"
   ]
  },
  {
   "cell_type": "code",
   "execution_count": 13,
   "metadata": {
    "colab": {
     "base_uri": "https://localhost:8080/",
     "height": 71
    },
    "colab_type": "code",
    "id": "9sZTvu2pfQi0",
    "outputId": "5312f0b0-7b6b-48e9-d8ef-9efce84d5fb4"
   },
   "outputs": [
    {
     "name": "stdout",
     "output_type": "stream",
     "text": [
      "46875/46875 [==============================] - 242s 5ms/step - loss: 0.1434 - acc: 0.9963\n",
      "2/2 [==============================] - 0s 85ms/step - loss: 0.0129 - acc: 0.9980\n"
     ]
    },
    {
     "data": {
      "text/plain": [
       "[0.012898864224553108, 0.9980000257492065]"
      ]
     },
     "execution_count": 13,
     "metadata": {
      "tags": []
     },
     "output_type": "execute_result"
    }
   ],
   "source": [
    "model = tf.keras.Sequential([\n",
    "  tf.keras.Input([IMAGE_SIZE[0] * IMAGE_SIZE[1]]),\n",
    "  tf.keras.layers.LayerNormalization(),\n",
    "  tf.keras.layers.Dense(1024),\n",
    "  tf.keras.layers.LayerNormalization(),\n",
    "  tf.keras.layers.Activation(tf.nn.relu),\n",
    "  tf.keras.layers.Dense(1024),\n",
    "  tf.keras.layers.LayerNormalization(),\n",
    "  tf.keras.layers.Activation(tf.nn.relu),\n",
    "  tf.keras.layers.Dense(1024),\n",
    "  tf.keras.layers.LayerNormalization(),\n",
    "  tf.keras.layers.Activation(tf.tanh),\n",
    "\n",
    "  # insert Hopfield layers herein\n",
    "  ContinuousTimeHopfieldLayer(reg_factor=10, relax_tol=1e-3),\n",
    "  ContinuousTimeHopfieldLayer(reg_factor=10, relax_tol=1e-3),\n",
    "\n",
    "  tf.keras.layers.Dense(10, activation='softmax'),\n",
    "])\n",
    "model.compile(\n",
    "    loss='categorical_crossentropy', optimizer='adam', metrics=['acc'])\n",
    "model.fit(create_dataset(x_train, y_train, epochs=100, batch_size=128))\n",
    "model.evaluate(create_valid_dataset(x_train[:1000], y_train[:1000]))"
   ]
  },
  {
   "cell_type": "code",
   "execution_count": 14,
   "metadata": {
    "colab": {
     "base_uri": "https://localhost:8080/",
     "height": 89
    },
    "colab_type": "code",
    "id": "z4pqs8UKgk26",
    "outputId": "1678863f-6413-4136-c2ec-3aae029b46a0"
   },
   "outputs": [
    {
     "name": "stdout",
     "output_type": "stream",
     "text": [
      "Noise effect (accuracy): 0.998 => 0.643\n",
      "Relaxing period:\n",
      "16.136463\n",
      "19.686222\n"
     ]
    }
   ],
   "source": [
    "unoised_y = np.argmax(model.predict(X), axis=1)\n",
    "noised_y = np.argmax(model.predict(noised_X), axis=1)\n",
    "\n",
    "print('Noise effect (accuracy):',\n",
    "      np.sum(unoised_y == targets) / targets.shape[0],\n",
    "      '=>',\n",
    "      np.sum(noised_y == targets) / targets.shape[0])\n",
    "\n",
    "print('Relaxing period:')\n",
    "for layer in model.layers:\n",
    "  if isinstance(layer, ContinuousTimeHopfieldLayer):\n",
    "    print(layer._stop_condition.relax_time.numpy())"
   ]
  },
  {
   "cell_type": "code",
   "execution_count": 17,
   "metadata": {
    "colab": {
     "base_uri": "https://localhost:8080/",
     "height": 53
    },
    "colab_type": "code",
    "id": "Kfje0z5a7YLv",
    "outputId": "6b63a84e-44b9-438b-9479-7b4328b6f533"
   },
   "outputs": [
    {
     "name": "stdout",
     "output_type": "stream",
     "text": [
      "Latent flip ratio (without Hopfield): 0.010751953\n",
      "Latent flip ratio (with Hopfield): 0.009118164\n"
     ]
    }
   ],
   "source": [
    "# truncated model involving layers before Hopfield layers\n",
    "encoding_part, hopfield_part, output_part = decompose_model(model)\n",
    "unoised_z = encoding_part.predict(X)\n",
    "noised_z = encoding_part.predict(noised_X)\n",
    "\n",
    "z_flip_ratio = tf.reduce_mean(\n",
    "    tf.where(tf.abs(unoised_z - noised_z) > THRESHOLD, 1., 0.))\n",
    "print('Latent flip ratio (without Hopfield):', z_flip_ratio.numpy())\n",
    "\n",
    "\n",
    "# truncated model also includes the Hopfield layers\n",
    "\n",
    "unoised_z = hopfield_part.predict(unoised_z)\n",
    "noised_z = hopfield_part.predict(noised_z)\n",
    "\n",
    "z_flip_ratio = tf.reduce_mean(\n",
    "    tf.where(tf.abs(unoised_z - noised_z) > THRESHOLD, 1., 0.))\n",
    "print('Latent flip ratio (with Hopfield):', z_flip_ratio.numpy())"
   ]
  },
  {
   "cell_type": "markdown",
   "metadata": {
    "colab_type": "text",
    "id": "ELEGDENCO4mp"
   },
   "source": [
    "Temporal Conclusion:\n",
    "\n",
    "1. Benchmark model is more stable for random flip perturbation in\n",
    "the final accuracy.\n",
    "1. However, the model with Hopfield layer is significantly more\n",
    "stable in the last latent layer output (also in the layer just\n",
    "before the first Hopfield layer)."
   ]
  },
  {
   "cell_type": "code",
   "execution_count": 94,
   "metadata": {
    "colab": {},
    "colab_type": "code",
    "id": "3R5b9dIjvkDR"
   },
   "outputs": [],
   "source": [
    "import matplotlib\n",
    "%matplotlib inline\n",
    "import matplotlib.pyplot as plt\n",
    "\n",
    "\n",
    "def plot_hist(tensor_like, name=None, show_shape=False):\n",
    "  try:\n",
    "    array = tensor_like.numpy()\n",
    "  except AttributeError:\n",
    "    array = tensor_like\n",
    "  plt.hist(array.reshape([-1]), bins=50, density=True)\n",
    "  if show_shape is True:\n",
    "    name = '' if name is None else f'{name} | '\n",
    "    name += f'shape: {array.shape}'\n",
    "  if name is not None:\n",
    "    plt.xlabel(name)\n",
    "  plt.show()\n",
    "\n",
    "\n",
    "def naked_output_part(x):\n",
    "  global output_part\n",
    "  W, b = output_part.trainable_variables\n",
    "  return x @ W + b\n",
    "\n",
    "\n",
    "def clip_small_value(x):\n",
    "  return tf.where(tf.abs(x) > THRESHOLD, x, tf.zeros_like(x))"
   ]
  },
  {
   "cell_type": "code",
   "execution_count": 95,
   "metadata": {
    "colab": {
     "base_uri": "https://localhost:8080/",
     "height": 541
    },
    "colab_type": "code",
    "id": "mqNUO5tM3rYx",
    "outputId": "ba8f703c-2e5b-4973-e407-914ee2158f95"
   },
   "outputs": [
    {
     "data": {
      "image/png": "[encoded data removed]",
      "text/plain": [
       "<Figure size 432x288 with 1 Axes>"
      ]
     },
     "metadata": {
      "needs_background": "light",
      "tags": []
     },
     "output_type": "display_data"
    },
    {
     "data": {
      "image/png": "[encoded data removed]",
      "text/plain": [
       "<Figure size 432x288 with 1 Axes>"
      ]
     },
     "metadata": {
      "needs_background": "light",
      "tags": []
     },
     "output_type": "display_data"
    }
   ],
   "source": [
    "i = 2\n",
    "plot_hist(clip_small_value(noised_z - unoised_z)[i], show_shape=True)\n",
    "plot_hist(clip_small_value(naked_output_part(noised_z) - naked_output_part(unoised_z))[i], show_shape=True)"
   ]
  },
  {
   "cell_type": "markdown",
   "metadata": {
    "colab_type": "text",
    "id": "H9xvxOAE6eck"
   },
   "source": [
    "**So, the output layer (before activation) is sensitive to some dimension. This causes the observed instability.**"
   ]
  },
  {
   "cell_type": "markdown",
   "metadata": {
    "colab_type": "text",
    "id": "ZfM4j-sWDnCF"
   },
   "source": [
    "TODO:"
   ]
  },
  {
   "cell_type": "code",
   "execution_count": null,
   "metadata": {
    "colab": {},
    "colab_type": "code",
    "id": "KyCfslslDgg3"
   },
   "outputs": [],
   "source": [
    "import tensorflow as tf\n",
    "from node.core import get_node_function\n",
    "from node.solvers.runge_kutta import RKF56Solver\n",
    "\n",
    "\n",
    "class NodeLayer(tf.keras.layers.Layer):\n",
    "\n",
    "  def __init__(self, hidden_units, t, **kwargs):\n",
    "    super().__init__(**kwargs)\n",
    "    self.hidden_units = hidden_units\n",
    "    self.t = tf.convert_to_tensor(float(t))\n",
    "\n",
    "  def build(self, input_shape):\n",
    "    print(input_shape)\n",
    "    layers = [tf.keras.Input(input_shape[1:])]\n",
    "    for n in self.hidden_units:\n",
    "      layers += [\n",
    "        tf.keras.layers.Dense(n),\n",
    "        tf.keras.layers.LayerNormalization(),\n",
    "        tf.keras.layers.Activation(tf.nn.relu),\n",
    "      ]\n",
    "    layers.append(tf.keras.layers.Dense(input_shape[-1]))\n",
    "    static_pvf = tf.keras.Sequential(layers)\n",
    "    dynamics = lambda t, x: static_pvf(x)\n",
    "    solver = RKF56Solver(dt=1e-1, tol=1e-3, min_dt=1e-2)\n",
    "    node_fn = get_node_function(solver, dynamics)\n",
    "\n",
    "    def solve_fn(x):\n",
    "      return node_fn(tf.constant(0.), self.t, x)\n",
    "\n",
    "    self._solve_fn = solve_fn\n",
    "\n",
    "    super().build(input_shape)\n",
    "\n",
    "  def call(self, inputs):\n",
    "    return self._solve_fn(inputs)"
   ]
  },
  {
   "cell_type": "code",
   "execution_count": null,
   "metadata": {
    "colab": {},
    "colab_type": "code",
    "id": "-6ZdEIYNZn2b"
   },
   "outputs": [],
   "source": [
    "# model_2 = tf.keras.Sequential([\n",
    "#   tf.keras.Input([IMAGE_SIZE[0] * IMAGE_SIZE[1]]),\n",
    "#   tf.keras.layers.LayerNormalization(),\n",
    "#   tf.keras.layers.Dense(128),\n",
    "#   tf.keras.layers.LayerNormalization(),\n",
    "#   NodeLayer([256], 1.),\n",
    "#   tf.keras.layers.Activation(tf.tanh),\n",
    "\n",
    "#   # insert Hopfield layers herein\n",
    "#   # ContinuousTimeHopfieldLayer(reg_factor=10, relax_tol=1e-3),\n",
    "#   # ContinuousTimeHopfieldLayer(reg_factor=10, relax_tol=1e-3),\n",
    "\n",
    "#   tf.keras.layers.Dense(10, activation='softmax'),\n",
    "# ])\n",
    "# model_2.compile(\n",
    "#     loss='categorical_crossentropy', optimizer='adam', metrics=['acc'])\n",
    "# model_2.fit(create_dataset(x_train, y_train, epochs=50))\n",
    "# model_2.evaluate(create_valid_dataset(x_train[:1000], y_train[:1000]))"
   ]
  },
  {
   "cell_type": "code",
   "execution_count": null,
   "metadata": {
    "colab": {},
    "colab_type": "code",
    "id": "NT49oqjHaV2s"
   },
   "outputs": [],
   "source": []
  }
 ],
 "metadata": {
  "accelerator": "GPU",
  "colab": {
   "collapsed_sections": [],
   "name": "HL.ipynb",
   "provenance": []
  },
  "kernelspec": {
   "display_name": "Python 3",
   "language": "python",
   "name": "python3"
  },
  "language_info": {
   "codemirror_mode": {
    "name": "ipython",
    "version": 3
   },
   "file_extension": ".py",
   "mimetype": "text/x-python",
   "name": "python",
   "nbconvert_exporter": "python",
   "pygments_lexer": "ipython3",
   "version": "3.7.7"
  }
 },
 "nbformat": 4,
 "nbformat_minor": 4
}
