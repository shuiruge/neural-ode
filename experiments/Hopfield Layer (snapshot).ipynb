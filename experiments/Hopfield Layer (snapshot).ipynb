{
  "nbformat": 4,
  "nbformat_minor": 0,
  "metadata": {
    "colab": {
      "name": "Hopfield Layer.ipynb",
      "provenance": [],
      "collapsed_sections": []
    },
    "kernelspec": {
      "name": "python3",
      "display_name": "Python 3"
    },
    "accelerator": "GPU"
  },
  "cells": [
    {
      "cell_type": "code",
      "metadata": {
        "id": "LQnDPzsYQD3q",
        "colab_type": "code",
        "colab": {
          "base_uri": "https://localhost:8080/",
          "height": 179
        },
        "outputId": "6e640fc7-076f-47ec-b9ad-17559187b158"
      },
      "source": [
        "!pip install git+https://github.com/shuiruge/neural-ode.git@master"
      ],
      "execution_count": 1,
      "outputs": [
        {
          "output_type": "stream",
          "text": [
            "Collecting git+https://github.com/shuiruge/neural-ode.git@master\n",
            "  Cloning https://github.com/shuiruge/neural-ode.git (to revision master) to /tmp/pip-req-build-x_5eyx0p\n",
            "  Running command git clone -q https://github.com/shuiruge/neural-ode.git /tmp/pip-req-build-x_5eyx0p\n",
            "Requirement already satisfied (use --upgrade to upgrade): node==0.1.0 from git+https://github.com/shuiruge/neural-ode.git@master in /usr/local/lib/python3.6/dist-packages\n",
            "Building wheels for collected packages: node\n",
            "  Building wheel for node (setup.py) ... \u001b[?25l\u001b[?25hdone\n",
            "  Created wheel for node: filename=node-0.1.0-cp36-none-any.whl size=37076 sha256=f5cee0fd290271ed7027484d8bf8e8f7fa7a2a7534706006f69ee73d4fbccdff\n",
            "  Stored in directory: /tmp/pip-ephem-wheel-cache-6trp16vl/wheels/36/41/e1/1cf7fd120543ff07c299bee3a2ce3fe659795c54f7e03fe9b6\n",
            "Successfully built node\n"
          ],
          "name": "stdout"
        }
      ]
    },
    {
      "cell_type": "code",
      "metadata": {
        "id": "UbpVa7ERQjL-",
        "colab_type": "code",
        "colab": {
          "base_uri": "https://localhost:8080/",
          "height": 53
        },
        "outputId": "8a9b82ce-7242-4270-bb6d-f546ce5b8e89"
      },
      "source": [
        "import numpy as np\n",
        "import tensorflow as tf\n",
        "from node.hopfield import ContinuousTimeHopfieldLayer\n",
        "                           \n",
        "# for reproducibility\n",
        "SEED = 42\n",
        "np.random.seed(SEED)\n",
        "tf.random.set_seed(SEED)\n",
        "\n",
        "tf.keras.backend.clear_session()\n",
        "\n",
        "\n",
        "IMAGE_SIZE = (28, 28)\n",
        "\n",
        "\n",
        "def pooling(x, size):\n",
        "  # x shape: [None, width, height]\n",
        "  x = tf.expand_dims(x, axis=-1)\n",
        "  x = tf.image.resize(x, size)\n",
        "  return x  # shape: [None, size[0], size[1], 1]\n",
        "\n",
        "\n",
        "def process_data(X, y, image_size):\n",
        "  X = pooling(X, image_size)\n",
        "  X = X / 255.\n",
        "  X = tf.where(X < 0.5, -1., 1.)\n",
        "  X = tf.reshape(X, [-1, image_size[0] * image_size[1]])\n",
        "  y = tf.one_hot(y, 10)\n",
        "  return tf.cast(X, tf.float32), tf.cast(y, tf.float32)\n",
        "\n",
        "\n",
        "def get_benchmark_model(model):\n",
        "  layers = [\n",
        "    layer for layer in model.layers\n",
        "    if not isinstance(layer, ContinuousTimeHopfieldLayer)]\n",
        "  return tf.keras.Sequential(layers)\n",
        "\n",
        "\n",
        "model = tf.keras.Sequential([\n",
        "  tf.keras.Input([IMAGE_SIZE[0] * IMAGE_SIZE[1]]),\n",
        "  tf.keras.layers.LayerNormalization(),\n",
        "  tf.keras.layers.Dense(1024, activation='relu'),\n",
        "  tf.keras.layers.Dense(512, activation='tanh'),\n",
        "  ContinuousTimeHopfieldLayer(reg_factor=1, relax_tol=1e-3),\n",
        "  tf.keras.layers.Dense(256, activation='tanh'),\n",
        "  ContinuousTimeHopfieldLayer(reg_factor=1, relax_tol=1e-3),\n",
        "  tf.keras.layers.Dense(128, activation='tanh'),\n",
        "  ContinuousTimeHopfieldLayer(reg_factor=1, relax_tol=1e-3),\n",
        "  tf.keras.layers.Dense(64, activation='relu'),\n",
        "  tf.keras.layers.Dense(10, activation='softmax'),\n",
        "])\n",
        "model.compile(loss='categorical_crossentropy', optimizer='adam', metrics=['acc'])\n",
        "\n",
        "mnist = tf.keras.datasets.mnist\n",
        "(x_train, y_train), _ = mnist.load_data()\n",
        "x_train, y_train = process_data(x_train, y_train, IMAGE_SIZE)\n",
        "dataset = tf.data.Dataset.from_tensor_slices((x_train, y_train))\n",
        "dataset = dataset.shuffle(1000).repeat(50).batch(128)\n",
        "model.fit(dataset)"
      ],
      "execution_count": 2,
      "outputs": [
        {
          "output_type": "stream",
          "text": [
            "23438/23438 [==============================] - 195s 8ms/step - loss: 0.0528 - acc: 0.9922\n"
          ],
          "name": "stdout"
        },
        {
          "output_type": "execute_result",
          "data": {
            "text/plain": [
              "<tensorflow.python.keras.callbacks.History at 0x7fded006a0b8>"
            ]
          },
          "metadata": {
            "tags": []
          },
          "execution_count": 2
        }
      ]
    },
    {
      "cell_type": "markdown",
      "metadata": {
        "id": "WYLKT6m1HXGr",
        "colab_type": "text"
      },
      "source": [
        "Exame the noise effect:"
      ]
    },
    {
      "cell_type": "code",
      "metadata": {
        "id": "UWy9NB-pRBYq",
        "colab_type": "code",
        "colab": {
          "base_uri": "https://localhost:8080/",
          "height": 935
        },
        "outputId": "fcaad701-a4b3-4fb6-bbdc-1362d018dc75"
      },
      "source": [
        "FLIP_RATIO = 0.3\n",
        "\n",
        "benchmark_model = get_benchmark_model(model)\n",
        "\n",
        "X = x_train[-2000:]\n",
        "targets = np.argmax(y_train[-2000:], axis=1)\n",
        "noised_X = np.where(np.random.random(size=X.shape) < FLIP_RATIO,\n",
        "                    -X, X)\n",
        "unoised_y = np.argmax(model.predict(X), axis=1)\n",
        "y = np.argmax(model.predict(noised_X), axis=1)\n",
        "benchmark_y = np.argmax(benchmark_model.predict(noised_X), axis=1)\n",
        "\n",
        "num_misleading = 0\n",
        "num_corrected = 0\n",
        "num_uncorrected = 0\n",
        "for i, (benchmark_yi, yi, unoised_yi, ti) in enumerate(zip(\n",
        "    benchmark_y, y, unoised_y, targets)):\n",
        "  if yi == unoised_yi and benchmark_yi != yi:\n",
        "    num_corrected += 1\n",
        "  elif benchmark_yi == unoised_yi and benchmark_yi != yi:\n",
        "    num_misleading += 1\n",
        "  elif yi != unoised_yi and benchmark_yi == yi:\n",
        "    num_uncorrected += 1\n",
        "  else:\n",
        "    pass\n",
        "  if i < 50:\n",
        "    print(f'{benchmark_yi} => {yi} | {unoised_yi} ({ti})')\n",
        "print(\n",
        "  f'misleading ratio: {num_misleading / X.shape[0]}',\n",
        "  f'corrected ratio: {num_corrected / X.shape[0]}',\n",
        "  f'uncorrected ratio: {num_uncorrected / X.shape[0]}')"
      ],
      "execution_count": 3,
      "outputs": [
        {
          "output_type": "stream",
          "text": [
            "3 => 1 | 1 (2)\n",
            "7 => 1 | 1 (3)\n",
            "0 => 5 | 1 (0)\n",
            "5 => 5 | 1 (4)\n",
            "5 => 5 | 1 (9)\n",
            "7 => 1 | 5 (5)\n",
            "7 => 1 | 5 (9)\n",
            "5 => 5 | 5 (6)\n",
            "1 => 1 | 1 (1)\n",
            "1 => 1 | 1 (7)\n",
            "5 => 5 | 5 (6)\n",
            "7 => 5 | 1 (8)\n",
            "7 => 5 | 5 (0)\n",
            "5 => 5 | 5 (9)\n",
            "7 => 1 | 1 (0)\n",
            "1 => 1 | 1 (0)\n",
            "8 => 1 | 5 (6)\n",
            "7 => 1 | 1 (1)\n",
            "4 => 1 | 1 (4)\n",
            "1 => 1 | 1 (2)\n",
            "5 => 5 | 1 (8)\n",
            "5 => 5 | 1 (3)\n",
            "1 => 1 | 1 (1)\n",
            "7 => 1 | 1 (4)\n",
            "5 => 5 | 1 (8)\n",
            "5 => 5 | 5 (5)\n",
            "2 => 1 | 1 (2)\n",
            "7 => 1 | 5 (6)\n",
            "1 => 1 | 1 (8)\n",
            "7 => 1 | 1 (7)\n",
            "1 => 1 | 1 (2)\n",
            "5 => 5 | 1 (8)\n",
            "2 => 1 | 1 (2)\n",
            "3 => 5 | 1 (1)\n",
            "5 => 5 | 5 (9)\n",
            "7 => 1 | 1 (0)\n",
            "5 => 1 | 1 (0)\n",
            "7 => 5 | 1 (4)\n",
            "5 => 5 | 1 (0)\n",
            "5 => 1 | 5 (5)\n",
            "1 => 5 | 5 (5)\n",
            "5 => 1 | 5 (6)\n",
            "8 => 1 | 1 (7)\n",
            "1 => 1 | 5 (6)\n",
            "5 => 5 | 1 (2)\n",
            "5 => 5 | 1 (3)\n",
            "0 => 1 | 5 (8)\n",
            "5 => 5 | 1 (4)\n",
            "7 => 1 | 1 (3)\n",
            "7 => 5 | 5 (4)\n",
            "misleading ratio: 0.0435 corrected ratio: 0.4305 uncorrected ratio: 0.1365\n"
          ],
          "name": "stdout"
        }
      ]
    },
    {
      "cell_type": "code",
      "metadata": {
        "id": "jGsOmvAddQTY",
        "colab_type": "code",
        "colab": {
          "base_uri": "https://localhost:8080/",
          "height": 71
        },
        "outputId": "a6ca79d4-f28d-4d88-ba36-1bc8cf305c48"
      },
      "source": [
        "for layer in model.layers:\n",
        "  if isinstance(layer, ContinuousTimeHopfieldLayer):\n",
        "    print(layer._stop_condition.relax_time.numpy())"
      ],
      "execution_count": 4,
      "outputs": [
        {
          "output_type": "stream",
          "text": [
            "267.9454\n",
            "227.85867\n",
            "282.02838\n"
          ],
          "name": "stdout"
        }
      ]
    }
  ]
}