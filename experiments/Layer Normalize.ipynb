{
 "cells": [
  {
   "cell_type": "code",
   "execution_count": 1,
   "metadata": {
    "scrolled": false
   },
   "outputs": [],
   "source": [
    "import numpy as np\n",
    "import tensorflow as tf\n",
    "import numpy as np\n",
    "import tensorflow as tf\n",
    "import tensorflow_addons as tfa\n",
    "from sklearn.preprocessing import StandardScaler\n",
    "from node.core import get_node_function\n",
    "from node.solvers import RK4Solver\n",
    "from node.hopfield import hopfield, identity, rescale\n",
    "\n",
    "\n",
    "# for reproducibility\n",
    "np.random.seed(42)\n",
    "tf.random.set_seed(42)\n",
    "\n",
    "\n",
    "def process(X, y):\n",
    "    X = X / 255.\n",
    "    X = np.reshape(X, [-1, 28 * 28])\n",
    "    y = np.eye(10)[y]\n",
    "    return X.astype('float32'), y.astype('float32')\n",
    "\n",
    "\n",
    "mnist = tf.keras.datasets.mnist\n",
    "(x_train, y_train), (x_test, y_test) = mnist.load_data()\n",
    "x_train, y_train = process(x_train, y_train)\n",
    "x_test, y_test = process(x_test, y_test)\n",
    "\n",
    "scalar = StandardScaler()\n",
    "scalar.fit(x_train)\n",
    "x_train = scalar.transform(x_train)\n",
    "x_test = scalar.transform(x_test)"
   ]
  },
  {
   "cell_type": "code",
   "execution_count": 19,
   "metadata": {
    "scrolled": false
   },
   "outputs": [],
   "source": [
    "class BasicNodeLayer(tf.keras.layers.Layer):\n",
    "\n",
    "    def __init__(self, units, dt, num_grids, **kwargs):\n",
    "        super().__init__(**kwargs)\n",
    "        self.dt = dt\n",
    "        self.num_grids = num_grids\n",
    "\n",
    "        t0 = tf.constant(0.)\n",
    "        self.tN = t0 + num_grids * dt\n",
    "\n",
    "        self._model = tf.keras.Sequential([\n",
    "            tf.keras.layers.Dense(1024, activation='relu'),\n",
    "            tf.keras.layers.Dense(units),\n",
    "        ])\n",
    "        self._model.build([None, units])\n",
    "        self._pvf = lambda _, x: self._model(x)\n",
    "\n",
    "        solver = RK4Solver(self.dt)\n",
    "        self._node_fn = get_node_function(solver, tf.constant(0.), self._pvf)\n",
    "\n",
    "    def call(self, x):\n",
    "        return self._node_fn(self.tN, x)\n",
    "\n",
    "    def get_config(self):\n",
    "        return super().get_config().copy()\n",
    "\n",
    "\n",
    "def get_trained_basic_model(logdir=None, epochs=10, lr=1e-3):\n",
    "    tf.keras.backend.clear_session()\n",
    "\n",
    "    basic_model = tf.keras.Sequential([\n",
    "        tf.keras.layers.Input([28 * 28]),\n",
    "        tf.keras.layers.LayerNormalization(scale=False, center=False),\n",
    "        tf.keras.layers.Dense(64, use_bias=False),  # down-sampling\n",
    "        BasicNodeLayer(64, dt=1e-1, num_grids=10),\n",
    "        tf.keras.layers.Dense(10, activation='softmax')\n",
    "    ])\n",
    "\n",
    "    basic_model.compile(\n",
    "        loss='categorical_crossentropy',\n",
    "        optimizer=tf.optimizers.Nadam(lr),\n",
    "        metrics=['accuracy'])\n",
    "\n",
    "    callbacks = []\n",
    "    if logdir:\n",
    "        tensorboard = tf.keras.callbacks.TensorBoard(\n",
    "            log_dir=logdir, histogram_freq=1, write_images=True, update_freq=10)\n",
    "        callbacks.append(tensorboard)\n",
    "\n",
    "    basic_model.fit(x_train, y_train, epochs=epochs, batch_size=128, callbacks=callbacks)\n",
    "    return basic_model"
   ]
  },
  {
   "cell_type": "code",
   "execution_count": 20,
   "metadata": {},
   "outputs": [
    {
     "name": "stdout",
     "output_type": "stream",
     "text": [
      "Train on 60000 samples\n",
      "Epoch 1/10\n",
      "60000/60000 [==============================] - 99s 2ms/sample - loss: 0.2627 - accuracy: 0.9192\n",
      "Epoch 2/10\n",
      "60000/60000 [==============================] - 123s 2ms/sample - loss: 0.1108 - accuracy: 0.9656\n",
      "Epoch 3/10\n",
      "60000/60000 [==============================] - 75s 1ms/sample - loss: 0.0754 - accuracy: 0.9759\n",
      "Epoch 4/10\n",
      "60000/60000 [==============================] - 86s 1ms/sample - loss: 0.0563 - accuracy: 0.9824\n",
      "Epoch 5/10\n",
      "60000/60000 [==============================] - 117s 2ms/sample - loss: 0.0460 - accuracy: 0.9847\n",
      "Epoch 6/10\n",
      "60000/60000 [==============================] - 84s 1ms/sample - loss: 0.0372 - accuracy: 0.9879\n",
      "Epoch 7/10\n",
      "60000/60000 [==============================] - 79s 1ms/sample - loss: 0.0337 - accuracy: 0.9889\n",
      "Epoch 8/10\n",
      "60000/60000 [==============================] - 64s 1ms/sample - loss: 0.0268 - accuracy: 0.9912\n",
      "Epoch 9/10\n",
      "60000/60000 [==============================] - 60s 1ms/sample - loss: 0.0269 - accuracy: 0.9909\n",
      "Epoch 10/10\n",
      "60000/60000 [==============================] - 60s 1ms/sample - loss: 0.0221 - accuracy: 0.9927\n"
     ]
    }
   ],
   "source": [
    "basic_model = get_trained_basic_model()"
   ]
  },
  {
   "cell_type": "code",
   "execution_count": 21,
   "metadata": {
    "scrolled": true
   },
   "outputs": [
    {
     "name": "stdout",
     "output_type": "stream",
     "text": [
      "60000/60000 [==============================] - 54s 896us/sample - loss: 0.3056 - accuracy: 0.9036\n"
     ]
    },
    {
     "data": {
      "text/plain": [
       "[0.30558200271924335, 0.90363336]"
      ]
     },
     "execution_count": 21,
     "metadata": {},
     "output_type": "execute_result"
    }
   ],
   "source": [
    "longer_trajectory_basic_model = tf.keras.Sequential([\n",
    "    tf.keras.layers.Input([28 * 28]),\n",
    "    tf.keras.layers.Dense(64, use_bias=False),  # down-sampling\n",
    "    tf.keras.layers.LayerNormalization(scale=False, center=False),\n",
    "    BasicNodeLayer(64, dt=1e-1, num_grids=50),\n",
    "    tf.keras.layers.Dense(10, activation='softmax')\n",
    "])\n",
    "\n",
    "longer_trajectory_basic_model.compile(\n",
    "    loss='categorical_crossentropy',\n",
    "    metrics=['accuracy'])\n",
    "\n",
    "longer_trajectory_basic_model.set_weights(basic_model.get_weights())\n",
    "longer_trajectory_basic_model.evaluate(x_train, y_train, batch_size=128)"
   ]
  },
  {
   "cell_type": "code",
   "execution_count": 8,
   "metadata": {},
   "outputs": [],
   "source": [
    "from node.utils.nest import nest_map\n",
    "\n",
    "@nest_map\n",
    "@tf.function\n",
    "def layer_normalize(x, axes=None, eps=1e-8):\n",
    "    \"\"\"\n",
    "    Reference:\n",
    "        1. [Layer Normalization](https://arxiv.org/abs/1607.06450)\n",
    "        2. [TF implementation](https://github.com/tensorflow/tensorflow/blob/v2.1.0/tensorflow/python/keras/layers/normalization.py#L910-L1158)\n",
    "    \"\"\"\n",
    "    if axes is None:\n",
    "        non_batch_axes = tf.range(1, len(x.shape))\n",
    "        axes = non_batch_axes\n",
    "    mean, variance = tf.nn.moments(x, axes, keepdims=True)\n",
    "    return (x - mean) / tf.sqrt(variance + eps)"
   ]
  },
  {
   "cell_type": "code",
   "execution_count": 14,
   "metadata": {
    "scrolled": true
   },
   "outputs": [],
   "source": [
    "class NormalizedNodeLayer(tf.keras.layers.Layer):\n",
    "\n",
    "    def __init__(self, units, dt, num_grids, **kwargs):\n",
    "        super().__init__(**kwargs)\n",
    "        self.dt = dt\n",
    "        self.num_grids = num_grids\n",
    "\n",
    "        t0 = tf.constant(0.)\n",
    "        self.tN = t0 + num_grids * dt\n",
    "\n",
    "        self._model = tf.keras.Sequential([\n",
    "            tf.keras.layers.Dense(1024, activation='relu'),\n",
    "            tf.keras.layers.Dense(units),\n",
    "        ])\n",
    "        self._model.build([None, units])\n",
    "        \n",
    "        def pvf(t, x):\n",
    "            v = self._model(x)\n",
    "            with tf.GradientTape() as g:\n",
    "                g.watch(x)\n",
    "                norm = layer_normalize(x)\n",
    "            return g.gradient(norm, x, v)\n",
    "\n",
    "        self._pvf = pvf\n",
    "        solver = RK4Solver(self.dt)\n",
    "        self._node_fn = get_node_function(\n",
    "            solver, tf.constant(0.), self._pvf)\n",
    "\n",
    "    def call(self, x):\n",
    "        y = self._node_fn(self.tN, x)\n",
    "        return y\n",
    "\n",
    "    def get_config(self):\n",
    "        return super().get_config().copy()\n",
    "\n",
    "\n",
    "def get_trained_normalized_model(logdir=None, epochs=10, lr=1e-3):\n",
    "    tf.keras.backend.clear_session()\n",
    "\n",
    "    normalized_model = tf.keras.Sequential([\n",
    "        tf.keras.layers.Input([28 * 28]),\n",
    "        tf.keras.layers.Dense(64, use_bias=False),  # down-sampling\n",
    "        tf.keras.layers.LayerNormalization(scale=False, center=False),\n",
    "        NormalizedNodeLayer(64, dt=1e-1, num_grids=10),\n",
    "        tf.keras.layers.Dense(10, activation='softmax')\n",
    "    ])\n",
    "\n",
    "    normalized_model.compile(\n",
    "        loss='categorical_crossentropy',\n",
    "        optimizer=tf.optimizers.Nadam(lr),\n",
    "        metrics=['accuracy'])\n",
    "\n",
    "    callbacks = []\n",
    "    if logdir is not None:\n",
    "        tensorboard = tf.keras.callbacks.TensorBoard(\n",
    "            log_dir=logdir, histogram_freq=1, write_images=True, update_freq=10)\n",
    "        callbacks.append(tensorboard)\n",
    "    normalized_model.fit(x_train, y_train, epochs=epochs, batch_size=128, callbacks=callbacks)\n",
    "    return normalized_model"
   ]
  },
  {
   "cell_type": "code",
   "execution_count": 15,
   "metadata": {
    "scrolled": true
   },
   "outputs": [
    {
     "name": "stdout",
     "output_type": "stream",
     "text": [
      "Train on 60000 samples\n",
      "Epoch 1/10\n",
      "60000/60000 [==============================] - 100s 2ms/sample - loss: 0.2610 - accuracy: 0.9203\n",
      "Epoch 2/10\n",
      "60000/60000 [==============================] - 102s 2ms/sample - loss: 0.1098 - accuracy: 0.9659\n",
      "Epoch 3/10\n",
      "60000/60000 [==============================] - 109s 2ms/sample - loss: 0.0748 - accuracy: 0.9765\n",
      "Epoch 4/10\n",
      "60000/60000 [==============================] - 103s 2ms/sample - loss: 0.0571 - accuracy: 0.9819\n",
      "Epoch 5/10\n",
      "60000/60000 [==============================] - 97s 2ms/sample - loss: 0.0453 - accuracy: 0.9852\n",
      "Epoch 6/10\n",
      "60000/60000 [==============================] - 105s 2ms/sample - loss: 0.0365 - accuracy: 0.9880\n",
      "Epoch 7/10\n",
      "60000/60000 [==============================] - 106s 2ms/sample - loss: 0.0305 - accuracy: 0.9902\n",
      "Epoch 8/10\n",
      "60000/60000 [==============================] - 107s 2ms/sample - loss: 0.0262 - accuracy: 0.9918\n",
      "Epoch 9/10\n",
      "60000/60000 [==============================] - 105s 2ms/sample - loss: 0.0246 - accuracy: 0.9918\n",
      "Epoch 10/10\n",
      "60000/60000 [==============================] - 103s 2ms/sample - loss: 0.0204 - accuracy: 0.9934\n"
     ]
    }
   ],
   "source": [
    "normalized_model = get_trained_normalized_model()"
   ]
  },
  {
   "cell_type": "code",
   "execution_count": 17,
   "metadata": {},
   "outputs": [
    {
     "name": "stdout",
     "output_type": "stream",
     "text": [
      "60000/60000 [==============================] - 98s 2ms/sample - loss: 0.5223 - accuracy: 0.8773\n"
     ]
    },
    {
     "data": {
      "text/plain": [
       "[0.5223327584107716, 0.87726665]"
      ]
     },
     "execution_count": 17,
     "metadata": {},
     "output_type": "execute_result"
    }
   ],
   "source": [
    "longer_trajectory_normalized_model = tf.keras.Sequential([\n",
    "    tf.keras.layers.Input([28 * 28]),\n",
    "    tf.keras.layers.Dense(64, use_bias=False),  # down-sampling\n",
    "    tf.keras.layers.LayerNormalization(scale=False, center=False),\n",
    "    NormalizedNodeLayer(64, dt=1e-1, num_grids=50),\n",
    "    tf.keras.layers.Dense(10, activation='softmax')\n",
    "])\n",
    "\n",
    "longer_trajectory_normalized_model.compile(\n",
    "    loss='categorical_crossentropy',\n",
    "    metrics=['accuracy'])\n",
    "\n",
    "longer_trajectory_normalized_model.set_weights(normalized_model.get_weights())\n",
    "longer_trajectory_normalized_model.evaluate(x_train, y_train, batch_size=128)"
   ]
  },
  {
   "cell_type": "markdown",
   "metadata": {},
   "source": [
    "### Conclusion\n",
    "\n",
    "With layer normalization, no convergence (relaxation) is observed."
   ]
  }
 ],
 "metadata": {
  "kernelspec": {
   "display_name": "Python 3",
   "language": "python",
   "name": "python3"
  },
  "language_info": {
   "codemirror_mode": {
    "name": "ipython",
    "version": 3
   },
   "file_extension": ".py",
   "mimetype": "text/x-python",
   "name": "python",
   "nbconvert_exporter": "python",
   "pygments_lexer": "ipython3",
   "version": "3.7.5"
  }
 },
 "nbformat": 4,
 "nbformat_minor": 2
}
