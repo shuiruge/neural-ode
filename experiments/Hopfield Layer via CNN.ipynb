{
 "cells": [
  {
   "cell_type": "markdown",
   "metadata": {
    "colab_type": "text",
    "id": "E5dbakk-Yxau"
   },
   "source": [
    "## Data"
   ]
  },
  {
   "cell_type": "code",
   "execution_count": 1,
   "metadata": {},
   "outputs": [
    {
     "name": "stdout",
     "output_type": "stream",
     "text": [
      "2.4.0-dev20200901\n"
     ]
    }
   ],
   "source": [
    "# !pip install --upgrade -q git+https://github.com/shuiruge/neural-ode.git@master\n",
    "\n",
    "import numpy as np\n",
    "import tensorflow as tf\n",
    "from node.core import get_dynamical_node_function\n",
    "from node.solvers.runge_kutta import RK4Solver, RKF56Solver\n",
    "from node.solvers.dynamical_runge_kutta import DynamicalRK4Solver, DynamicalRKF56Solver\n",
    "from node.hopfield import StopCondition, ContinuousTimeHopfieldLayer, DiscreteTimeHopfieldLayer\n",
    "\n",
    "tf.random.set_seed(42)\n",
    "\n",
    "tf.keras.backend.clear_session()\n",
    "\n",
    "print(tf.__version__)"
   ]
  },
  {
   "cell_type": "code",
   "execution_count": 2,
   "metadata": {
    "colab": {},
    "colab_type": "code",
    "id": "J0QNHlhGAPX2"
   },
   "outputs": [],
   "source": [
    "IMAGE_SIZE = (32, 32)\n",
    "# IMAGE_SIZE = (8, 8)  # XXX: test!\n",
    "BINARIZE = True\n",
    "# BINARIZE = False\n",
    "\n",
    "\n",
    "\n",
    "def pooling(x, size):\n",
    "    # x shape: [None, width, height]\n",
    "    x = tf.expand_dims(x, axis=-1)\n",
    "    x = tf.image.resize(x, size)\n",
    "    return x  # shape: [None, size[0], size[1], 1]\n",
    "\n",
    "\n",
    "def process_data(X, y, image_size, binarize):\n",
    "    X = pooling(X, image_size)\n",
    "    X = X / 255.\n",
    "    if binarize:\n",
    "        X = tf.where(X < 0.5, -1., 1.)\n",
    "    else:\n",
    "        X = X * 2 - 1\n",
    "    X = tf.reshape(X, [-1, image_size[0] * image_size[1]])\n",
    "    y = tf.one_hot(y, 10)\n",
    "    return tf.cast(X, tf.float32), tf.cast(y, tf.float32)\n",
    "\n",
    "\n",
    "def display_reconstruction_accuracy(model, X, benchmark):\n",
    "    error = np.abs(X - model.predict(X))\n",
    "    benchmark_error = np.abs(X - benchmark)\n",
    "    # plot\n",
    "    plt.hist(error.reshape([-1]), label='error',\n",
    "             alpha=0.5, bins=100, range=(0.1, 3))\n",
    "    plt.hist(benchmark_error.reshape([-1]), label='benchmark_error',\n",
    "             alpha=0.5, bins=100, range=(0.1, 3))\n",
    "    plt.legend()\n",
    "    plt.show()\n",
    "\n",
    "\n",
    "def evaluate(model, X, y):\n",
    "    yhat = model.predict(X)\n",
    "    acc = np.mean(np.argmax(y, axis=-1) == np.argmax(yhat, axis=-1))\n",
    "    return acc\n",
    "\n",
    "\n",
    "(x_train, y_train), _ = tf.keras.datasets.mnist.load_data()\n",
    "x_train, y_train = process_data(x_train, y_train, IMAGE_SIZE, BINARIZE)"
   ]
  },
  {
   "cell_type": "markdown",
   "metadata": {
    "colab_type": "text",
    "id": "ke0-JZOQYc0B"
   },
   "source": [
    "## Hopfield Layer with CNN AE"
   ]
  },
  {
   "cell_type": "code",
   "execution_count": 3,
   "metadata": {},
   "outputs": [],
   "source": [
    "def get_center_mask(dim):\n",
    "    assert dim % 2 == 1\n",
    "    center = int(dim / 2) + 1\n",
    "    mask = np.ones([dim, dim, 1, 1])\n",
    "    mask[center, center, 0, 0] = 0\n",
    "    return mask\n",
    "    \n",
    "\n",
    "def mask_center(kernel):\n",
    "    # kernel shape: [dim, dim, n_channels, n_filters]\n",
    "    dim, *_ = kernel.get_shape().as_list()\n",
    "    mask = tf.constant(get_center_mask(dim), dtype=kernel.dtype)\n",
    "    return kernel * mask\n",
    "\n",
    "\n",
    "class HAELayer(tf.keras.layers.Layer):\n",
    "\n",
    "    def __init__(self,\n",
    "                 filters,\n",
    "                 kernel_size,\n",
    "                 activation=tf.nn.tanh,\n",
    "                 tau=1,\n",
    "                 static_solver=RKF56Solver(\n",
    "                     dt=1e-1, tol=1e-3, min_dt=1e-2),\n",
    "                 dynamical_solver=DynamicalRKF56Solver(\n",
    "                     dt=1e-1, tol=1e-3, min_dt=1e-2),\n",
    "                 max_time=1e+3,\n",
    "                 relax_tol=1e-3,\n",
    "                 reg_factor=1,\n",
    "                 **kwargs):\n",
    "        super().__init__(**kwargs)\n",
    "        self.filters = filters\n",
    "        self.kernel_size = kernel_size\n",
    "        self.activation = activation\n",
    "        self.tau = float(tau)\n",
    "        self.static_solver = static_solver\n",
    "        self.dynamical_solver = dynamical_solver\n",
    "        self.max_time = float(max_time)\n",
    "        self.relax_tol = float(relax_tol)\n",
    "        self.reg_factor = float(reg_factor)\n",
    "\n",
    "    def build(self, input_shape):\n",
    "        depth = input_shape[-1]\n",
    "        two_dim_shape = [int(np.sqrt(depth))] * 2 + [1]\n",
    "\n",
    "        ae = tf.keras.Sequential([\n",
    "            tf.keras.layers.Reshape(two_dim_shape),\n",
    "            tf.keras.layers.Conv2D(\n",
    "                filters=self.filters,\n",
    "                kernel_size=self.kernel_size,\n",
    "                activation='relu',\n",
    "                padding='same',\n",
    "                kernel_constraint=mask_center),\n",
    "            tf.keras.layers.Conv2D(1, 1, activation=self.activation),\n",
    "            tf.keras.layers.Reshape([depth])\n",
    "        ])\n",
    "        ae.build(input_shape)\n",
    "\n",
    "        def dynamics(t, x):\n",
    "            return (-x + ae(x)) / self.tau\n",
    "\n",
    "        stop_condition = StopCondition(dynamics, self.max_time, self.relax_tol)\n",
    "        node_fn = get_dynamical_node_function(\n",
    "          self.dynamical_solver, self.static_solver, dynamics, stop_condition)\n",
    "\n",
    "        self._ae = ae\n",
    "        self._stop_condition = stop_condition\n",
    "        self._node_fn = node_fn\n",
    "\n",
    "        super().build(input_shape)\n",
    "\n",
    "    def call(self, x, training=None):\n",
    "        if training:\n",
    "            r = self._ae(x)\n",
    "            loss = tf.reduce_mean(tf.abs(x - r))\n",
    "            self.add_loss(self.reg_factor * loss)\n",
    "            return r\n",
    "        else:\n",
    "            t0 = tf.constant(0.)\n",
    "            return self._node_fn(t0, x)\n",
    "        \n",
    "\n",
    "def decompose_model(model):\n",
    "    for i, layer in enumerate(model.layers):\n",
    "        if isinstance(layer, BaseAELayer):\n",
    "            break\n",
    "    encoding_part = tf.keras.Sequential(model.layers[:i])\n",
    "\n",
    "    for j in range(i, len(model.layers)):\n",
    "        if not isinstance(layer, BaseAELayer):\n",
    "            break\n",
    "    ae_part = tf.keras.Sequential(model.layers[i:j])\n",
    "\n",
    "    output_part = tf.keras.Sequential(model.layers[j:])\n",
    "\n",
    "    return encoding_part, ae_part, output_part"
   ]
  },
  {
   "cell_type": "code",
   "execution_count": 4,
   "metadata": {},
   "outputs": [],
   "source": [
    "def create_model():\n",
    "    model = tf.keras.Sequential([\n",
    "        HAELayer(filters=16, kernel_size=3, reg_factor=1),\n",
    "    ])\n",
    "    model.compile(optimizer='adam')\n",
    "    return model"
   ]
  },
  {
   "cell_type": "code",
   "execution_count": 5,
   "metadata": {
    "colab": {
     "base_uri": "https://localhost:8080/",
     "height": 53
    },
    "colab_type": "code",
    "id": "kbqJL6p9GjLe",
    "outputId": "e92d7d0f-3a91-42fe-c48a-9b051c9b0ea8"
   },
   "outputs": [
    {
     "name": "stdout",
     "output_type": "stream",
     "text": [
      "7813/7813 [==============================] - 313s 40ms/step - loss: 0.0344\n"
     ]
    },
    {
     "data": {
      "text/plain": [
       "<tensorflow.python.keras.callbacks.History at 0x7f868e716490>"
      ]
     },
     "execution_count": 5,
     "metadata": {},
     "output_type": "execute_result"
    }
   ],
   "source": [
    "model = create_model()\n",
    "X = x_train[:100].numpy()\n",
    "ds0 = tf.data.Dataset.from_tensor_slices(X)\n",
    "ds = ds0.shuffle(10000).repeat(10000).batch(128)\n",
    "model.fit(ds)"
   ]
  },
  {
   "cell_type": "code",
   "execution_count": 6,
   "metadata": {},
   "outputs": [
    {
     "name": "stdout",
     "output_type": "stream",
     "text": [
      "Relax time: 7.771289\n"
     ]
    }
   ],
   "source": [
    "noised_X = X + np.random.normal(size=X.shape) * 0.1\n",
    "recon_X = model.predict(noised_X)\n",
    "try:\n",
    "    print('Relax time:', model.layers[-1]._stop_condition.relax_time.numpy())\n",
    "except Exception as e:\n",
    "    print(e)"
   ]
  },
  {
   "cell_type": "code",
   "execution_count": 7,
   "metadata": {},
   "outputs": [
    {
     "name": "stdout",
     "output_type": "stream",
     "text": [
      "0.3277522240637046 => 0.0002702606916427548 (0.0002702606916427548)\n"
     ]
    }
   ],
   "source": [
    "orig_err = noised_X - X\n",
    "err = recon_X - X\n",
    "rel_err = err / X\n",
    "print(f'{np.quantile(np.abs(orig_err), 0.999)} => '\n",
    "      f'{np.quantile(np.abs(err), 0.999)} '\n",
    "      f'({np.quantile(np.abs(rel_err), 0.999)})')"
   ]
  },
  {
   "cell_type": "code",
   "execution_count": 8,
   "metadata": {},
   "outputs": [
    {
     "name": "stdout",
     "output_type": "stream",
     "text": [
      "Model: \"sequential\"\n",
      "_________________________________________________________________\n",
      "Layer (type)                 Output Shape              Param #   \n",
      "=================================================================\n",
      "hae_layer (HAELayer)         (None, 1024)              177       \n",
      "=================================================================\n",
      "Total params: 177\n",
      "Trainable params: 177\n",
      "Non-trainable params: 0\n",
      "_________________________________________________________________\n"
     ]
    }
   ],
   "source": [
    "model.summary()  # XXX: Much much less number of parameters than the\n",
    "                 # fully connected version."
   ]
  },
  {
   "cell_type": "markdown",
   "metadata": {},
   "source": [
    "* CNN version needs only ~ 10^2 parameters. Recall that dense version needs 10^7 parameters."
   ]
  }
 ],
 "metadata": {
  "colab": {
   "collapsed_sections": [],
   "name": "EHL.ipynb",
   "provenance": [],
   "toc_visible": true
  },
  "kernelspec": {
   "display_name": "Python 3",
   "language": "python",
   "name": "python3"
  },
  "language_info": {
   "codemirror_mode": {
    "name": "ipython",
    "version": 3
   },
   "file_extension": ".py",
   "mimetype": "text/x-python",
   "name": "python",
   "nbconvert_exporter": "python",
   "pygments_lexer": "ipython3",
   "version": "3.7.7"
  }
 },
 "nbformat": 4,
 "nbformat_minor": 4
}
