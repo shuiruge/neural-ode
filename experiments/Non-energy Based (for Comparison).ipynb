{
 "cells": [
  {
   "cell_type": "markdown",
   "metadata": {},
   "source": [
    "Fork the code from `\"Energy Based.ipynb\"` for comparison. The only modification is using non-energy based instead of energy based (c.f. the code `# XXX: the only modification.`). "
   ]
  },
  {
   "cell_type": "code",
   "execution_count": 1,
   "metadata": {},
   "outputs": [
    {
     "name": "stdout",
     "output_type": "stream",
     "text": [
      "Train on 60000 samples\n",
      "Epoch 1/12\n",
      "60000/60000 [==============================] - 21s 346us/sample - loss: 0.3928 - accuracy: 0.8928\n",
      "Epoch 2/12\n",
      "60000/60000 [==============================] - 15s 257us/sample - loss: 0.1757 - accuracy: 0.9501\n",
      "Epoch 3/12\n",
      "60000/60000 [==============================] - 15s 252us/sample - loss: 0.1252 - accuracy: 0.9635\n",
      "Epoch 4/12\n",
      "60000/60000 [==============================] - 16s 260us/sample - loss: 0.0989 - accuracy: 0.9712\n",
      "Epoch 5/12\n",
      "60000/60000 [==============================] - 15s 243us/sample - loss: 0.0799 - accuracy: 0.9762\n",
      "Epoch 6/12\n",
      "60000/60000 [==============================] - 15s 256us/sample - loss: 0.0646 - accuracy: 0.9803\n",
      "Epoch 7/12\n",
      "60000/60000 [==============================] - 16s 264us/sample - loss: 0.0545 - accuracy: 0.9828\n",
      "Epoch 8/12\n",
      "60000/60000 [==============================] - 16s 262us/sample - loss: 0.0461 - accuracy: 0.9861\n",
      "Epoch 9/12\n",
      "60000/60000 [==============================] - 16s 271us/sample - loss: 0.0382 - accuracy: 0.9882\n",
      "Epoch 10/12\n",
      "60000/60000 [==============================] - 17s 278us/sample - loss: 0.0321 - accuracy: 0.9902\n",
      "Epoch 11/12\n",
      "60000/60000 [==============================] - 16s 275us/sample - loss: 0.0279 - accuracy: 0.9916\n",
      "Epoch 12/12\n",
      "60000/60000 [==============================] - 17s 281us/sample - loss: 0.0263 - accuracy: 0.9928\n"
     ]
    },
    {
     "data": {
      "text/plain": [
       "<tensorflow.python.keras.callbacks.History at 0x7fa97db5a590>"
      ]
     },
     "execution_count": 1,
     "metadata": {},
     "output_type": "execute_result"
    }
   ],
   "source": [
    "import numpy as np\n",
    "import tensorflow as tf\n",
    "from datetime import datetime\n",
    "from IPython.display import HTML\n",
    "from sklearn.preprocessing import StandardScaler\n",
    "from node.core import get_node_function\n",
    "from node.fix_grid import RKSolver\n",
    "from node.utils.trajectory import tracer, visualize_trajectory\n",
    "from node.energy_based import Energy, energy_based, identity\n",
    "\n",
    "\n",
    "# for reproducibility\n",
    "np.random.seed(42)\n",
    "tf.random.set_seed(42)\n",
    "\n",
    "\n",
    "DTYPE = 'float32'\n",
    "tf.keras.backend.set_floatx(DTYPE)\n",
    "\n",
    "\n",
    "class MyLayer(tf.keras.layers.Layer):\n",
    "\n",
    "    def __init__(self, units, dt, num_grids, **kwargs):\n",
    "        super().__init__(**kwargs)\n",
    "        self.dt = dt\n",
    "        self.num_grids = num_grids\n",
    "\n",
    "        t0 = tf.constant(0., dtype=DTYPE)\n",
    "        self.tN = t0 + num_grids * dt\n",
    "\n",
    "        self._model = tf.keras.Sequential([\n",
    "            tf.keras.layers.Dense(256, activation='relu', dtype=DTYPE),\n",
    "            tf.keras.layers.Dense(units, dtype=DTYPE),\n",
    "        ])\n",
    "        self._model.build([None, units])\n",
    "\n",
    "        self._raw_pvf = lambda _, x: self._model(x)\n",
    "        self._pvf = energy_based(identity, identity, self._raw_pvf)\n",
    "        self._node_fn = get_node_function(RKSolver(self.dt, dtype=DTYPE),\n",
    "                                          tf.constant(0., dtype=DTYPE),\n",
    "                                          self._raw_pvf)  # XXX: the only modification.\n",
    "\n",
    "    def call(self, x):\n",
    "        y = self._node_fn(self.tN, x)\n",
    "        return y\n",
    "\n",
    "    def get_config(self):\n",
    "        return super().get_config().copy()\n",
    "\n",
    "\n",
    "def process(X, y):\n",
    "    X = X / 255.\n",
    "    X = np.reshape(X, [-1, 28 * 28])\n",
    "    y = np.eye(10)[y]\n",
    "    return X.astype(DTYPE), y.astype(DTYPE)\n",
    "\n",
    "\n",
    "mnist = tf.keras.datasets.mnist\n",
    "(x_train, y_train), (x_test, y_test) = mnist.load_data()\n",
    "x_train, y_train = process(x_train, y_train)\n",
    "x_test, y_test = process(x_test, y_test)\n",
    "\n",
    "scalar = StandardScaler()\n",
    "scalar.fit(x_train)\n",
    "x_train = scalar.transform(x_train)\n",
    "x_test = scalar.transform(x_test)\n",
    "\n",
    "model = tf.keras.Sequential([\n",
    "    tf.keras.layers.Input([28 * 28]),\n",
    "    tf.keras.layers.Dense(64, use_bias=False),  # down-sampling\n",
    "    MyLayer(64, dt=1e-1, num_grids=10),\n",
    "    tf.keras.layers.Dense(10, activation='softmax')\n",
    "])\n",
    "\n",
    "model.compile(loss='categorical_crossentropy',\n",
    "              optimizer=tf.optimizers.Nadam(1e-3, epsilon=1e-2),\n",
    "              metrics=['accuracy'])\n",
    "\n",
    "model.fit(x_train, y_train, epochs=12, batch_size=128)"
   ]
  },
  {
   "cell_type": "code",
   "execution_count": 5,
   "metadata": {},
   "outputs": [
    {
     "name": "stdout",
     "output_type": "stream",
     "text": [
      "60000/60000 [==============================] - 11s 186us/sample - loss: 4.0961 - accuracy: 0.7250\n"
     ]
    },
    {
     "data": {
      "text/plain": [
       "[4.09614633509318, 0.72503334]"
      ]
     },
     "execution_count": 5,
     "metadata": {},
     "output_type": "execute_result"
    }
   ],
   "source": [
    "longer_trajectory_model = tf.keras.Sequential([\n",
    "    tf.keras.layers.Input([28 * 28]),\n",
    "    tf.keras.layers.Dense(64, use_bias=False),  # down-sampling\n",
    "    MyLayer(64, dt=1e-1, num_grids=30),\n",
    "    tf.keras.layers.Dense(10, activation='softmax')\n",
    "])\n",
    "\n",
    "longer_trajectory_model.compile(\n",
    "    loss='categorical_crossentropy',\n",
    "    metrics=['accuracy'])\n",
    "\n",
    "longer_trajectory_model.set_weights(model.get_weights())\n",
    "longer_trajectory_model.evaluate(x_train, y_train, batch_size=128)"
   ]
  },
  {
   "cell_type": "code",
   "execution_count": 7,
   "metadata": {},
   "outputs": [],
   "source": [
    "my_layer_id = 1\n",
    "my_layer = model.layers[my_layer_id]\n",
    "trace = tracer(RKSolver(0.1), my_layer._pvf)\n",
    "energy_fn = Energy(identity, my_layer._pvf)\n",
    "\n",
    "truncated_model = tf.keras.Sequential(model.layers[:my_layer_id])\n",
    "hidden = truncated_model(x_train[:100])\n",
    "labels = y_train[:100]\n",
    "trajectory = trace(t0=tf.constant(0.),\n",
    "                   t1=tf.constant(10.),\n",
    "                   dt=tf.constant(0.1),\n",
    "                   x=hidden)\n",
    "# trajectory = tf.stack([model.layers[3](_) for _ in tf.unstack(trajectory, axis=1)], axis=1)\n",
    "\n",
    "def energy_along_trajectory(trajectory):\n",
    "    shape = trajectory.get_shape().as_list()\n",
    "    batch_size, trajectory_size, *phase_dims = shape\n",
    "    phase_points = tf.reshape(trajectory, [-1, *phase_dims])\n",
    "    e = energy_fn(phase_points)\n",
    "    return tf.reshape(e, [batch_size, trajectory_size])\n",
    "\n",
    "\n",
    "energy = energy_along_trajectory(trajectory)"
   ]
  },
  {
   "cell_type": "code",
   "execution_count": 8,
   "metadata": {},
   "outputs": [
    {
     "data": {
      "image/png": "[encoded data removed]",
      "text/plain": [
       "<Figure size 432x288 with 1 Axes>"
      ]
     },
     "metadata": {
      "needs_background": "light"
     },
     "output_type": "display_data"
    }
   ],
   "source": [
    "import matplotlib\n",
    "%matplotlib inline\n",
    "import matplotlib.pyplot as plt\n",
    "\n",
    "\n",
    "i = 15\n",
    "diffs = (trajectory[:,-1,:] - trajectory[:,0,:])\n",
    "plt.hist(diffs[i], bins=50, range=(-5, 5))\n",
    "plt.show()"
   ]
  },
  {
   "cell_type": "code",
   "execution_count": null,
   "metadata": {},
   "outputs": [],
   "source": []
  }
 ],
 "metadata": {
  "kernelspec": {
   "display_name": "Python 3",
   "language": "python",
   "name": "python3"
  },
  "language_info": {
   "codemirror_mode": {
    "name": "ipython",
    "version": 3
   },
   "file_extension": ".py",
   "mimetype": "text/x-python",
   "name": "python",
   "nbconvert_exporter": "python",
   "pygments_lexer": "ipython3",
   "version": "3.7.5"
  }
 },
 "nbformat": 4,
 "nbformat_minor": 2
}
