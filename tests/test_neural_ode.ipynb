{
 "cells": [
  {
   "cell_type": "markdown",
   "metadata": {},
   "source": [
    "Re-implements [this](https://github.com/kmkolasinski/deep-learning-notes/blob/master/seminars/2019-03-Neural-Ordinary-Differential-Equations/1.Demo_spiral.ipynb)."
   ]
  },
  {
   "cell_type": "code",
   "execution_count": 1,
   "metadata": {},
   "outputs": [],
   "source": [
    "import numpy as np\n",
    "import tensorflow as tf\n",
    "import matplotlib.pyplot as plt\n",
    "from time import time\n",
    "from node.fix_grid import FixGridODESolver, FixGridODESolverWithTrajectory, rk4_step_fn, euler_step_fn\n",
    "from node.base import reverse_mode_derivative"
   ]
  },
  {
   "cell_type": "code",
   "execution_count": 2,
   "metadata": {},
   "outputs": [],
   "source": [
    "data_size = 1000\n",
    "batch_time = 20  # this seems to works the best ...\n",
    "n_iters = 3000\n",
    "batch_size = 16\n",
    "\n",
    "true_y0 = tf.constant([[2., 0.]])\n",
    "true_A = tf.constant([[-0.1, 2.0], [-2.0, -0.1]])"
   ]
  },
  {
   "cell_type": "code",
   "execution_count": 3,
   "metadata": {},
   "outputs": [],
   "source": [
    "@tf.function\n",
    "def f(x, t):\n",
    "    return tf.matmul(x**3, true_A)"
   ]
  },
  {
   "cell_type": "code",
   "execution_count": 4,
   "metadata": {},
   "outputs": [],
   "source": [
    "ode_solver = FixGridODESolver(rk4_step_fn, data_size)\n",
    "ode_solver_with_traj = FixGridODESolverWithTrajectory(rk4_step_fn, data_size)\n",
    "\n",
    "forward = ode_solver(f)\n",
    "traj_forward = ode_solver_with_traj(f)"
   ]
  },
  {
   "cell_type": "code",
   "execution_count": 5,
   "metadata": {},
   "outputs": [
    {
     "data": {
      "text/plain": [
       "array([[ 2.        ,  0.        ],\n",
       "       [ 1.979506  ,  0.39437142],\n",
       "       [ 1.9493771 ,  0.77418923],\n",
       "       ...,\n",
       "       [-0.44173265,  0.28836665],\n",
       "       [-0.44268936,  0.28397956],\n",
       "       [-0.44359136,  0.27956814]], dtype=float32)"
      ]
     },
     "execution_count": 5,
     "metadata": {},
     "output_type": "execute_result"
    }
   ],
   "source": [
    "t0 = tf.constant(0.)\n",
    "t1 = tf.constant(25.)\n",
    "true_y0 = tf.constant(true_y0)\n",
    "_, true_y = traj_forward(t0, t1, true_y0)\n",
    "true_y = true_y.numpy().reshape([data_size, 2])\n",
    "true_y"
   ]
  },
  {
   "cell_type": "code",
   "execution_count": 26,
   "metadata": {},
   "outputs": [
    {
     "name": "stdout",
     "output_type": "stream",
     "text": [
      "0.07180643081665039\n"
     ]
    },
    {
     "data": {
      "text/plain": [
       "<tf.Tensor: id=327, shape=(1, 2), dtype=float32, numpy=array([[-0.44359136,  0.27956814]], dtype=float32)>"
      ]
     },
     "execution_count": 26,
     "metadata": {},
     "output_type": "execute_result"
    }
   ],
   "source": [
    "t0 = tf.constant(0)\n",
    "t1 = tf.constant(25)\n",
    "true_y0 = tf.constant(true_y0)\n",
    "t00 = time()\n",
    "yN = forward(tf.constant(0.), tf.constant(25.), true_y0)\n",
    "t01 = time()\n",
    "print(t01 - t00)\n",
    "yN"
   ]
  },
  {
   "cell_type": "code",
   "execution_count": null,
   "metadata": {},
   "outputs": [],
   "source": [
    "def plot_spiral(trajectories):\n",
    "    for path in trajectories:\n",
    "        print(path.shape)\n",
    "        plt.plot(*path.T)\n",
    "    plt.axis(\"equal\")\n",
    "    plt.xlabel(\"x\")\n",
    "    plt.ylabel(\"y\")\n",
    "\n",
    "plot_spiral([true_y])"
   ]
  },
  {
   "cell_type": "code",
   "execution_count": null,
   "metadata": {},
   "outputs": [],
   "source": [
    "# simple network which is used to learn trajectory\n",
    "class ODEModel:\n",
    "    def __init__(self):\n",
    "        self.model = tf.keras.Sequential([\n",
    "            tf.keras.layers.Dense(50, activation=\"tanh\"),\n",
    "            tf.keras.layers.Dense(2)])\n",
    "        self.model.build([None, 2])\n",
    "\n",
    "    def __call__(self, x, t):\n",
    "        h = x**3\n",
    "        return self.model(h)"
   ]
  },
  {
   "cell_type": "code",
   "execution_count": null,
   "metadata": {
    "scrolled": true
   },
   "outputs": [],
   "source": [
    "network = ODEModel()\n",
    "var_list = network.model.trainable_variables\n",
    "optimizer = tf.compat.v1.train.RMSPropOptimizer(learning_rate=1e-4)"
   ]
  },
  {
   "cell_type": "code",
   "execution_count": null,
   "metadata": {},
   "outputs": [],
   "source": [
    "import time\n",
    "\n",
    "@tf.function\n",
    "def compute_gradients_and_update(batch_y0, batch_yN):\n",
    "    \"\"\"Takes start positions (x0, y0) and final positions (xN, yN)\"\"\"\n",
    "    pred_y = ode_solver(f, 0, 25, batch_y0)\n",
    "    with tf.GradientTape() as g:\n",
    "        g.watch(pred_y)\n",
    "        loss = tf.reduce_mean(tf.abs(pred_y - batch_yN))\n",
    "    dLoss = g.gradient(loss, pred_y)\n",
    "    dWeights = reverse_mode_derivative(\n",
    "        ode_solver, network, var_list, 0, 25, pred_y, dLoss)\n",
    "    optimizer.apply_gradients(zip(dWeights, var_list))\n",
    "    return loss"
   ]
  },
  {
   "cell_type": "code",
   "execution_count": null,
   "metadata": {},
   "outputs": [],
   "source": [
    "def get_batch():\n",
    "    \"\"\"Returns initial point and last point over sampled frament of trajectory\"\"\"\n",
    "    starts = np.random.choice(np.arange(data_size - batch_time - 1, dtype=np.int64), batch_size, replace=False)\n",
    "    batch_y0 = true_y[starts] # (batch_size, 2) -> initial point\n",
    "    batch_yN = true_y[starts + batch_time]\n",
    "    return tf.constant(batch_y0), tf.constant(batch_yN)"
   ]
  },
  {
   "cell_type": "code",
   "execution_count": null,
   "metadata": {
    "scrolled": true
   },
   "outputs": [],
   "source": [
    "from tqdm import tqdm\n",
    "\n",
    "loss_history = []\n",
    "for step in tqdm(range(n_iters)):\n",
    "    batch_y0, batch_yN = get_batch()\n",
    "    loss = compute_gradients_and_update(batch_y0, batch_yN)\n",
    "    loss_history.append(loss.numpy())\n",
    "    \n",
    "    if step % 500 == 0:\n",
    "        yN, states_history_model = ode_solver_with_traj(network, 0, 25, true_y0)\n",
    "        # plot trajectories        \n",
    "        plot_spiral([true_y, np.concatenate(states_history_model)])        \n",
    "        plt.show()"
   ]
  },
  {
   "cell_type": "code",
   "execution_count": null,
   "metadata": {},
   "outputs": [],
   "source": []
  }
 ],
 "metadata": {
  "file_extension": ".py",
  "kernelspec": {
   "display_name": "Python 3",
   "language": "python",
   "name": "python3"
  },
  "language_info": {
   "codemirror_mode": {
    "name": "ipython",
    "version": 3
   },
   "file_extension": ".py",
   "mimetype": "text/x-python",
   "name": "python",
   "nbconvert_exporter": "python",
   "pygments_lexer": "ipython3",
   "version": "3.7.4"
  },
  "mimetype": "text/x-python",
  "name": "python",
  "npconvert_exporter": "python",
  "pygments_lexer": "ipython3",
  "version": 3
 },
 "nbformat": 4,
 "nbformat_minor": 2
}
